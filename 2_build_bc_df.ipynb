{
 "cells": [
  {
   "cell_type": "code",
   "execution_count": 1,
   "metadata": {},
   "outputs": [],
   "source": [
    "import numpy as np\n",
    "import pandas as pd"
   ]
  },
  {
   "cell_type": "markdown",
   "metadata": {},
   "source": [
    "### Load the merged BC data"
   ]
  },
  {
   "cell_type": "code",
   "execution_count": 2,
   "metadata": {},
   "outputs": [],
   "source": [
    "#Load the merged bc files\n",
    "def load_merged(name):\n",
    "     return np.load('./data/merged/'+name+'.npy', allow_pickle=True).item()\n",
    "\n",
    "combined_pot = load_merged('POT')\n",
    "combined_gef1 = load_merged('GEF1')\n",
    "combined_gef2 = load_merged('GEF2')\n",
    "combined_gef3 = load_merged('GEF3')\n",
    "combined_trm4 = load_merged('TRM4')\n",
    "combined_trm5 = load_merged('TRM5')\n",
    "combined_trm6 = load_merged('TRM6')\n",
    "combined_dmso7 = load_merged('DMSO7')\n",
    "combined_dmso8 = load_merged('DMSO8')\n",
    "    \n",
    "c_g1f1 = load_merged('g1f1')\n",
    "c_g1f2 = load_merged('g1f2')\n",
    "c_g1f3 = load_merged('g1f3')\n",
    "c_g1f4 = load_merged('g1f4')\n",
    "\n",
    "c_g2f1 = load_merged('g2f1')\n",
    "# c_g2f2 = {}#load_merged('g2f2')\n",
    "c_g2f2 = load_merged('g2f2')\n",
    "c_g2f3 = load_merged('g2f3')\n",
    "c_g2f4 = load_merged('g2f4')\n",
    "\n",
    "c_g3f1 = load_merged('g3f1')\n",
    "# c_g3f2 = {}#load_merged('g3f2')\n",
    "c_g3f2 = load_merged('g3f2')\n",
    "c_g3f3 = load_merged('g3f3')\n",
    "c_g3f4 = load_merged('g3f4')\n",
    "\n",
    "c_t4f1 = load_merged('t4f1')\n",
    "c_t4f2 = load_merged('t4f2')\n",
    "c_t4f3 = load_merged('t4f3')\n",
    "c_t4f4 = load_merged('t4f4')\n",
    "c_t4f5 = load_merged('t4f5')\n",
    "c_t4f6 = load_merged('t4f6')\n",
    "c_t4f7 = load_merged('t4f7')\n",
    "c_t4f8 = load_merged('t4f8')\n",
    "c_t4f9 = load_merged('t4f9')\n",
    "\n",
    "c_t5f1 = load_merged('t5f1')\n",
    "c_t5f2 = load_merged('t5f2')\n",
    "c_t5f3 = load_merged('t5f3')\n",
    "c_t5f4 = load_merged('t5f4')\n",
    "c_t5f5 = load_merged('t5f5')\n",
    "c_t5f6 = load_merged('t5f6')\n",
    "c_t5f7 = load_merged('t5f7')\n",
    "c_t5f8 = load_merged('t5f8')\n",
    "c_t5f9 = load_merged('t5f9')\n",
    "\n",
    "c_t6f1 = load_merged('t6f1')\n",
    "c_t6f2 = load_merged('t6f2')\n",
    "c_t6f3 = load_merged('t6f3')\n",
    "c_t6f4 = load_merged('t6f4')\n",
    "c_t6f5 = load_merged('t6f5')\n",
    "c_t6f6 = load_merged('t6f6')\n",
    "c_t6f7 = load_merged('t6f7')\n",
    "c_t6f8 = load_merged('t6f8')\n",
    "c_t6f9 = load_merged('t6f9')\n",
    "\n",
    "g1_floating = [c_g1f1, c_g1f2, c_g1f3, c_g1f4]\n",
    "g2_floating = [c_g2f1, c_g2f2, c_g2f3, c_g2f4]\n",
    "g3_floating = [c_g3f1, c_g3f2, c_g3f3, c_g3f4]\n",
    "\n",
    "t4_floating = [c_t4f1, c_t4f2, c_t4f3, c_t4f4, c_t4f5, c_t4f6, c_t4f7, c_t4f8, c_t4f9]\n",
    "t5_floating = [c_t5f1, c_t5f2, c_t5f3, c_t5f4, c_t5f5, c_t5f6, c_t5f7, c_t5f8, c_t5f9]\n",
    "t6_floating = [c_t6f1, c_t6f2, c_t6f3, c_t6f4, c_t6f5, c_t6f6, c_t6f7, c_t6f8, c_t6f9]\n",
    "\n",
    "cbcs = [combined_pot, combined_dmso7, combined_dmso8, combined_gef1, combined_gef2, combined_gef3,\n",
    "        combined_trm4, combined_trm5, combined_trm6]\n",
    "\n",
    "allsamples = cbcs + g1_floating + g2_floating + g3_floating +\\\n",
    "             t4_floating + t5_floating + t6_floating"
   ]
  },
  {
   "cell_type": "markdown",
   "metadata": {},
   "source": [
    "### Build a dataframe of barcodes"
   ]
  },
  {
   "cell_type": "code",
   "execution_count": 3,
   "metadata": {},
   "outputs": [],
   "source": [
    "#Building a dataframe of BC information\n",
    "allbcs = []\n",
    "for sample in allsamples:\n",
    "    allbcs = list(set(allbcs + sample.keys()))\n",
    "\n",
    "#transforms a BC list into a list extended by 0s for BCs in other samples\n",
    "def get_full_bcdist(sample):\n",
    "    bcdist = []\n",
    "    for bc in allbcs:\n",
    "        if bc in sample:\n",
    "            bcdist.append(sample[bc])\n",
    "        else:\n",
    "            bcdist.append(0)\n",
    "            \n",
    "    return bcdist\n",
    "\n",
    "data = map(get_full_bcdist, allsamples)\n",
    "columns = ['POT', 'DMSO7', 'DMSO8', 'GEF1', 'GEF2', 'GEF3', 'TRM4', 'TRM5', 'TRM6'] +\\\n",
    "          ['G1_f1', 'G1_f2', 'G1_f3', 'G1_f4'] +\\\n",
    "          ['G2_f1', 'G2_f2', 'G2_f3', 'G2_f4'] +\\\n",
    "          ['G3_f1', 'G3_f2', 'G3_f3', 'G3_f4'] +\\\n",
    "          ['T4_f1', 'T4_f2', 'T4_f3', 'T4_f4', 'T4_f5', 'T4_f6', 'T4_f7', 'T4_f8', 'T4_f9'] +\\\n",
    "          ['T5_f1', 'T5_f2', 'T5_f3', 'T5_f4', 'T5_f5', 'T5_f6', 'T5_f7', 'T5_f8', 'T5_f9'] +\\\n",
    "          ['T6_f1', 'T6_f2', 'T6_f3', 'T6_f4', 'T6_f5', 'T6_f6', 'T6_f7', 'T6_f8', 'T6_f9']\n",
    "        \n",
    "data = {c:d for c,d in zip(columns, data)}\n",
    "df_bc = pd.DataFrame(data, index=allbcs, dtype=float)"
   ]
  },
  {
   "cell_type": "code",
   "execution_count": 4,
   "metadata": {},
   "outputs": [],
   "source": [
    "#Initial frequencies\n",
    "df_bc['D7_freq'] = df_bc['DMSO7'] / df_bc['DMSO7'].sum()\n",
    "df_bc['D8_freq'] = df_bc['DMSO8'] / df_bc['DMSO8'].sum()"
   ]
  },
  {
   "cell_type": "code",
   "execution_count": 5,
   "metadata": {},
   "outputs": [],
   "source": [
    "# Freq changes - used to determine selection. Note we measure form maximum DMSO frequency to\n",
    "# be conservative\n",
    "df_bc['GEF1_r'] = (df_bc['GEF1']/df_bc['GEF1'].sum()) - df_bc[['D7_freq', 'D8_freq']].max(axis=1)\n",
    "df_bc['GEF2_r'] = (df_bc['GEF2']/df_bc['GEF2'].sum()) - df_bc[['D7_freq', 'D8_freq']].max(axis=1) \n",
    "df_bc['GEF3_r'] = (df_bc['GEF3']/df_bc['GEF3'].sum()) - df_bc[['D7_freq', 'D8_freq']].max(axis=1) \n",
    "df_bc['TRM4_r'] = (df_bc['TRM4']/df_bc['TRM4'].sum()) - df_bc[['D7_freq', 'D8_freq']].max(axis=1) \n",
    "df_bc['TRM5_r'] = (df_bc['TRM5']/df_bc['TRM5'].sum()) - df_bc[['D7_freq', 'D8_freq']].max(axis=1) \n",
    "df_bc['TRM6_r'] = (df_bc['TRM6']/df_bc['TRM6'].sum()) - df_bc[['D7_freq', 'D8_freq']].max(axis=1) \n",
    "df_bc['DMSO7_r'] = (df_bc['DMSO7']/df_bc['DMSO7'].sum()) - df_bc[['D7_freq', 'D8_freq']].max(axis=1) \n",
    "df_bc['DMSO8_r'] = (df_bc['DMSO8']/df_bc['DMSO8'].sum()) - df_bc[['D7_freq', 'D8_freq']].max(axis=1) "
   ]
  },
  {
   "cell_type": "code",
   "execution_count": 6,
   "metadata": {},
   "outputs": [
    {
     "name": "stderr",
     "output_type": "stream",
     "text": [
      "/miniconda3/envs/expevo/lib/python2.7/site-packages/ipykernel_launcher.py:6: RuntimeWarning: divide by zero encountered in log\n",
      "  \n",
      "/miniconda3/envs/expevo/lib/python2.7/site-packages/ipykernel_launcher.py:9: RuntimeWarning: divide by zero encountered in log\n",
      "  if __name__ == '__main__':\n",
      "/miniconda3/envs/expevo/lib/python2.7/site-packages/ipykernel_launcher.py:12: RuntimeWarning: divide by zero encountered in log\n",
      "  if sys.path[0] == '':\n",
      "/miniconda3/envs/expevo/lib/python2.7/site-packages/ipykernel_launcher.py:15: RuntimeWarning: divide by zero encountered in log\n",
      "  from ipykernel import kernelapp as app\n",
      "/miniconda3/envs/expevo/lib/python2.7/site-packages/ipykernel_launcher.py:18: RuntimeWarning: divide by zero encountered in log\n",
      "/miniconda3/envs/expevo/lib/python2.7/site-packages/ipykernel_launcher.py:21: RuntimeWarning: divide by zero encountered in log\n"
     ]
    }
   ],
   "source": [
    "# Add in the growth rates for each barcode in each replicate\n",
    "#\n",
    "# GEF experiment was 4 weeks\n",
    "# TRM experiment was 9 weeks\n",
    "df_bc['GEF1_gr']=(1./(7*4.))*np.log(\n",
    "    (df_bc['GEF1']/df_bc['GEF1'].sum()) / df_bc[['D7_freq', 'D8_freq']].max(axis=1))\n",
    "\n",
    "df_bc['GEF2_gr']=(1./(7*4.))*np.log(\n",
    "    (df_bc['GEF2']/df_bc['GEF2'].sum()) / df_bc[['D7_freq', 'D8_freq']].max(axis=1))\n",
    "\n",
    "df_bc['GEF3_gr']=(1./(7*4.))*np.log(\n",
    "    (df_bc['GEF3']/df_bc['GEF3'].sum()) / df_bc[['D7_freq', 'D8_freq']].max(axis=1))\n",
    "\n",
    "df_bc['TRM4_gr']=(1./(7*9.))*np.log(\n",
    "    (df_bc['TRM4']/df_bc['TRM4'].sum()) / df_bc[['D7_freq', 'D8_freq']].max(axis=1))\n",
    "\n",
    "df_bc['TRM5_gr']=(1./(7*9.))*np.log(\n",
    "    (df_bc['TRM5']/df_bc['TRM5'].sum()) / df_bc[['D7_freq', 'D8_freq']].max(axis=1))\n",
    "\n",
    "df_bc['TRM6_gr']=(1./(7*9.))*np.log(\n",
    "    (df_bc['TRM6']/df_bc['TRM6'].sum()) / df_bc[['D7_freq', 'D8_freq']].max(axis=1))\n"
   ]
  },
  {
   "cell_type": "code",
   "execution_count": 7,
   "metadata": {},
   "outputs": [],
   "source": [
    "#Save the barcode dataframe\n",
    "df_bc.to_csv('./data/allbcs.csv')"
   ]
  },
  {
   "cell_type": "code",
   "execution_count": null,
   "metadata": {},
   "outputs": [],
   "source": []
  }
 ],
 "metadata": {
  "kernelspec": {
   "display_name": "Python 2",
   "language": "python",
   "name": "python2"
  },
  "language_info": {
   "codemirror_mode": {
    "name": "ipython",
    "version": 2
   },
   "file_extension": ".py",
   "mimetype": "text/x-python",
   "name": "python",
   "nbconvert_exporter": "python",
   "pygments_lexer": "ipython2",
   "version": "2.7.15"
  }
 },
 "nbformat": 4,
 "nbformat_minor": 2
}
